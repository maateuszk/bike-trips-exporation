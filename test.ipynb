{
 "cells": [
  {
   "cell_type": "code",
   "execution_count": 2,
   "metadata": {
    "pycharm": {
     "is_executing": false
    }
   },
   "outputs": [],
   "source": [
    "import pandas as pd\n",
    "import plotly.graph_objects as go\n"
   ]
  },
  {
   "cell_type": "code",
   "execution_count": 3,
   "metadata": {
    "pycharm": {
     "is_executing": false,
     "name": "#%%\n"
    }
   },
   "outputs": [],
   "source": [
    "data = pd.read_csv('tripdata.csv')"
   ]
  },
  {
   "cell_type": "code",
   "execution_count": 4,
   "metadata": {
    "pycharm": {
     "is_executing": false,
     "name": "#%%\n"
    }
   },
   "outputs": [
    {
     "data": {
      "text/html": [
       "<div>\n",
       "<style scoped>\n",
       "    .dataframe tbody tr th:only-of-type {\n",
       "        vertical-align: middle;\n",
       "    }\n",
       "\n",
       "    .dataframe tbody tr th {\n",
       "        vertical-align: top;\n",
       "    }\n",
       "\n",
       "    .dataframe thead th {\n",
       "        text-align: right;\n",
       "    }\n",
       "</style>\n",
       "<table border=\"1\" class=\"dataframe\">\n",
       "  <thead>\n",
       "    <tr style=\"text-align: right;\">\n",
       "      <th></th>\n",
       "      <th>tripduration</th>\n",
       "      <th>starttime</th>\n",
       "      <th>stoptime</th>\n",
       "      <th>start station id</th>\n",
       "      <th>start station name</th>\n",
       "      <th>start station latitude</th>\n",
       "      <th>start station longitude</th>\n",
       "      <th>end station id</th>\n",
       "      <th>end station name</th>\n",
       "      <th>end station latitude</th>\n",
       "      <th>end station longitude</th>\n",
       "      <th>bikeid</th>\n",
       "      <th>usertype</th>\n",
       "      <th>birth year</th>\n",
       "      <th>gender</th>\n",
       "    </tr>\n",
       "  </thead>\n",
       "  <tbody>\n",
       "    <tr>\n",
       "      <th>0</th>\n",
       "      <td>327</td>\n",
       "      <td>2019-09-01 00:00:01.9580</td>\n",
       "      <td>2019-09-01 00:05:29.3410</td>\n",
       "      <td>3733</td>\n",
       "      <td>Avenue C &amp; E 18 St</td>\n",
       "      <td>40.730563</td>\n",
       "      <td>-73.973984</td>\n",
       "      <td>504</td>\n",
       "      <td>1 Ave &amp; E 16 St</td>\n",
       "      <td>40.732219</td>\n",
       "      <td>-73.981656</td>\n",
       "      <td>39213</td>\n",
       "      <td>Subscriber</td>\n",
       "      <td>1968</td>\n",
       "      <td>1</td>\n",
       "    </tr>\n",
       "    <tr>\n",
       "      <th>1</th>\n",
       "      <td>1145</td>\n",
       "      <td>2019-09-01 00:00:04.1430</td>\n",
       "      <td>2019-09-01 00:19:09.8360</td>\n",
       "      <td>3329</td>\n",
       "      <td>Degraw St &amp; Smith St</td>\n",
       "      <td>40.682915</td>\n",
       "      <td>-73.993182</td>\n",
       "      <td>270</td>\n",
       "      <td>Adelphi St &amp; Myrtle Ave</td>\n",
       "      <td>40.693083</td>\n",
       "      <td>-73.971789</td>\n",
       "      <td>21257</td>\n",
       "      <td>Customer</td>\n",
       "      <td>1969</td>\n",
       "      <td>0</td>\n",
       "    </tr>\n",
       "    <tr>\n",
       "      <th>2</th>\n",
       "      <td>1293</td>\n",
       "      <td>2019-09-01 00:00:07.3090</td>\n",
       "      <td>2019-09-01 00:21:40.7580</td>\n",
       "      <td>3168</td>\n",
       "      <td>Central Park West &amp; W 85 St</td>\n",
       "      <td>40.784727</td>\n",
       "      <td>-73.969617</td>\n",
       "      <td>423</td>\n",
       "      <td>W 54 St &amp; 9 Ave</td>\n",
       "      <td>40.765849</td>\n",
       "      <td>-73.986905</td>\n",
       "      <td>15242</td>\n",
       "      <td>Customer</td>\n",
       "      <td>1969</td>\n",
       "      <td>0</td>\n",
       "    </tr>\n",
       "    <tr>\n",
       "      <th>3</th>\n",
       "      <td>1753</td>\n",
       "      <td>2019-09-01 00:00:08.0640</td>\n",
       "      <td>2019-09-01 00:29:21.5040</td>\n",
       "      <td>3299</td>\n",
       "      <td>E 98 St &amp; Park Ave</td>\n",
       "      <td>40.788130</td>\n",
       "      <td>-73.952060</td>\n",
       "      <td>3160</td>\n",
       "      <td>Central Park West &amp; W 76 St</td>\n",
       "      <td>40.778968</td>\n",
       "      <td>-73.973747</td>\n",
       "      <td>38760</td>\n",
       "      <td>Subscriber</td>\n",
       "      <td>1990</td>\n",
       "      <td>1</td>\n",
       "    </tr>\n",
       "    <tr>\n",
       "      <th>4</th>\n",
       "      <td>613</td>\n",
       "      <td>2019-09-01 00:00:12.8510</td>\n",
       "      <td>2019-09-01 00:10:26.1850</td>\n",
       "      <td>486</td>\n",
       "      <td>Broadway &amp; W 29 St</td>\n",
       "      <td>40.746201</td>\n",
       "      <td>-73.988557</td>\n",
       "      <td>478</td>\n",
       "      <td>11 Ave &amp; W 41 St</td>\n",
       "      <td>40.760301</td>\n",
       "      <td>-73.998842</td>\n",
       "      <td>32094</td>\n",
       "      <td>Subscriber</td>\n",
       "      <td>1992</td>\n",
       "      <td>1</td>\n",
       "    </tr>\n",
       "    <tr>\n",
       "      <th>...</th>\n",
       "      <td>...</td>\n",
       "      <td>...</td>\n",
       "      <td>...</td>\n",
       "      <td>...</td>\n",
       "      <td>...</td>\n",
       "      <td>...</td>\n",
       "      <td>...</td>\n",
       "      <td>...</td>\n",
       "      <td>...</td>\n",
       "      <td>...</td>\n",
       "      <td>...</td>\n",
       "      <td>...</td>\n",
       "      <td>...</td>\n",
       "      <td>...</td>\n",
       "      <td>...</td>\n",
       "    </tr>\n",
       "    <tr>\n",
       "      <th>2444895</th>\n",
       "      <td>1764</td>\n",
       "      <td>2019-09-30 23:59:22.7670</td>\n",
       "      <td>2019-10-01 00:28:47.3180</td>\n",
       "      <td>3314</td>\n",
       "      <td>W 95 St &amp; Broadway</td>\n",
       "      <td>40.793770</td>\n",
       "      <td>-73.971888</td>\n",
       "      <td>3161</td>\n",
       "      <td>W 76 St &amp; Columbus Ave</td>\n",
       "      <td>40.780184</td>\n",
       "      <td>-73.977285</td>\n",
       "      <td>41516</td>\n",
       "      <td>Customer</td>\n",
       "      <td>1995</td>\n",
       "      <td>1</td>\n",
       "    </tr>\n",
       "    <tr>\n",
       "      <th>2444896</th>\n",
       "      <td>378</td>\n",
       "      <td>2019-09-30 23:59:27.9270</td>\n",
       "      <td>2019-10-01 00:05:46.5700</td>\n",
       "      <td>316</td>\n",
       "      <td>Fulton St &amp; William St</td>\n",
       "      <td>40.709560</td>\n",
       "      <td>-74.006536</td>\n",
       "      <td>327</td>\n",
       "      <td>Vesey Pl &amp; River Terrace</td>\n",
       "      <td>40.715338</td>\n",
       "      <td>-74.016584</td>\n",
       "      <td>31124</td>\n",
       "      <td>Subscriber</td>\n",
       "      <td>1959</td>\n",
       "      <td>2</td>\n",
       "    </tr>\n",
       "    <tr>\n",
       "      <th>2444897</th>\n",
       "      <td>561</td>\n",
       "      <td>2019-09-30 23:59:29.1450</td>\n",
       "      <td>2019-10-01 00:08:50.8070</td>\n",
       "      <td>3260</td>\n",
       "      <td>Mercer St &amp; Bleecker St</td>\n",
       "      <td>40.727064</td>\n",
       "      <td>-73.996621</td>\n",
       "      <td>393</td>\n",
       "      <td>E 5 St &amp; Avenue C</td>\n",
       "      <td>40.722992</td>\n",
       "      <td>-73.979955</td>\n",
       "      <td>30285</td>\n",
       "      <td>Customer</td>\n",
       "      <td>1998</td>\n",
       "      <td>1</td>\n",
       "    </tr>\n",
       "    <tr>\n",
       "      <th>2444898</th>\n",
       "      <td>311</td>\n",
       "      <td>2019-09-30 23:59:42.2520</td>\n",
       "      <td>2019-10-01 00:04:54.2320</td>\n",
       "      <td>3746</td>\n",
       "      <td>6 Ave &amp; Broome St</td>\n",
       "      <td>40.724308</td>\n",
       "      <td>-74.004730</td>\n",
       "      <td>3435</td>\n",
       "      <td>Grand St &amp; Elizabeth St</td>\n",
       "      <td>40.718822</td>\n",
       "      <td>-73.995960</td>\n",
       "      <td>38290</td>\n",
       "      <td>Subscriber</td>\n",
       "      <td>1989</td>\n",
       "      <td>1</td>\n",
       "    </tr>\n",
       "    <tr>\n",
       "      <th>2444899</th>\n",
       "      <td>1500</td>\n",
       "      <td>2019-09-30 23:59:55.3740</td>\n",
       "      <td>2019-10-01 00:24:55.8400</td>\n",
       "      <td>331</td>\n",
       "      <td>Pike St &amp; Monroe St</td>\n",
       "      <td>40.711731</td>\n",
       "      <td>-73.991930</td>\n",
       "      <td>2012</td>\n",
       "      <td>E 27 St &amp; 1 Ave</td>\n",
       "      <td>40.739445</td>\n",
       "      <td>-73.976806</td>\n",
       "      <td>34013</td>\n",
       "      <td>Customer</td>\n",
       "      <td>1969</td>\n",
       "      <td>0</td>\n",
       "    </tr>\n",
       "  </tbody>\n",
       "</table>\n",
       "<p>2444900 rows × 15 columns</p>\n",
       "</div>"
      ],
      "text/plain": [
       "         tripduration                 starttime                  stoptime  \\\n",
       "0                 327  2019-09-01 00:00:01.9580  2019-09-01 00:05:29.3410   \n",
       "1                1145  2019-09-01 00:00:04.1430  2019-09-01 00:19:09.8360   \n",
       "2                1293  2019-09-01 00:00:07.3090  2019-09-01 00:21:40.7580   \n",
       "3                1753  2019-09-01 00:00:08.0640  2019-09-01 00:29:21.5040   \n",
       "4                 613  2019-09-01 00:00:12.8510  2019-09-01 00:10:26.1850   \n",
       "...               ...                       ...                       ...   \n",
       "2444895          1764  2019-09-30 23:59:22.7670  2019-10-01 00:28:47.3180   \n",
       "2444896           378  2019-09-30 23:59:27.9270  2019-10-01 00:05:46.5700   \n",
       "2444897           561  2019-09-30 23:59:29.1450  2019-10-01 00:08:50.8070   \n",
       "2444898           311  2019-09-30 23:59:42.2520  2019-10-01 00:04:54.2320   \n",
       "2444899          1500  2019-09-30 23:59:55.3740  2019-10-01 00:24:55.8400   \n",
       "\n",
       "         start station id           start station name  \\\n",
       "0                    3733           Avenue C & E 18 St   \n",
       "1                    3329         Degraw St & Smith St   \n",
       "2                    3168  Central Park West & W 85 St   \n",
       "3                    3299           E 98 St & Park Ave   \n",
       "4                     486           Broadway & W 29 St   \n",
       "...                   ...                          ...   \n",
       "2444895              3314           W 95 St & Broadway   \n",
       "2444896               316       Fulton St & William St   \n",
       "2444897              3260      Mercer St & Bleecker St   \n",
       "2444898              3746            6 Ave & Broome St   \n",
       "2444899               331          Pike St & Monroe St   \n",
       "\n",
       "         start station latitude  start station longitude  end station id  \\\n",
       "0                     40.730563               -73.973984             504   \n",
       "1                     40.682915               -73.993182             270   \n",
       "2                     40.784727               -73.969617             423   \n",
       "3                     40.788130               -73.952060            3160   \n",
       "4                     40.746201               -73.988557             478   \n",
       "...                         ...                      ...             ...   \n",
       "2444895               40.793770               -73.971888            3161   \n",
       "2444896               40.709560               -74.006536             327   \n",
       "2444897               40.727064               -73.996621             393   \n",
       "2444898               40.724308               -74.004730            3435   \n",
       "2444899               40.711731               -73.991930            2012   \n",
       "\n",
       "                    end station name  end station latitude  \\\n",
       "0                    1 Ave & E 16 St             40.732219   \n",
       "1            Adelphi St & Myrtle Ave             40.693083   \n",
       "2                    W 54 St & 9 Ave             40.765849   \n",
       "3        Central Park West & W 76 St             40.778968   \n",
       "4                   11 Ave & W 41 St             40.760301   \n",
       "...                              ...                   ...   \n",
       "2444895       W 76 St & Columbus Ave             40.780184   \n",
       "2444896     Vesey Pl & River Terrace             40.715338   \n",
       "2444897            E 5 St & Avenue C             40.722992   \n",
       "2444898      Grand St & Elizabeth St             40.718822   \n",
       "2444899              E 27 St & 1 Ave             40.739445   \n",
       "\n",
       "         end station longitude  bikeid    usertype  birth year  gender  \n",
       "0                   -73.981656   39213  Subscriber        1968       1  \n",
       "1                   -73.971789   21257    Customer        1969       0  \n",
       "2                   -73.986905   15242    Customer        1969       0  \n",
       "3                   -73.973747   38760  Subscriber        1990       1  \n",
       "4                   -73.998842   32094  Subscriber        1992       1  \n",
       "...                        ...     ...         ...         ...     ...  \n",
       "2444895             -73.977285   41516    Customer        1995       1  \n",
       "2444896             -74.016584   31124  Subscriber        1959       2  \n",
       "2444897             -73.979955   30285    Customer        1998       1  \n",
       "2444898             -73.995960   38290  Subscriber        1989       1  \n",
       "2444899             -73.976806   34013    Customer        1969       0  \n",
       "\n",
       "[2444900 rows x 15 columns]"
      ]
     },
     "execution_count": 4,
     "metadata": {},
     "output_type": "execute_result"
    }
   ],
   "source": [
    "data"
   ]
  },
  {
   "cell_type": "code",
   "execution_count": 12,
   "metadata": {
    "pycharm": {
     "name": "#%%\n"
    }
   },
   "outputs": [
    {
     "data": {
      "text/plain": [
       "array(['tripduration', 'starttime', 'stoptime', 'start station id',\n",
       "       'start station name', 'start station latitude',\n",
       "       'start station longitude', 'end station id', 'end station name',\n",
       "       'end station latitude', 'end station longitude', 'bikeid',\n",
       "       'usertype', 'birth year', 'gender'], dtype=object)"
      ]
     },
     "execution_count": 12,
     "metadata": {},
     "output_type": "execute_result"
    }
   ],
   "source": [
    "data.columns.values"
   ]
  },
  {
   "cell_type": "code",
   "execution_count": 12,
   "metadata": {
    "pycharm": {
     "is_executing": false
    }
   },
   "outputs": [],
   "source": [
    "data.columns = ['trip_duration', 'start_time', 'stop_time', 'start_station_id', 'start_station_name', \n",
    "                'start_station_lat', 'start_station_lon', 'end_station_id', 'end_station_name',\n",
    "               'end_station_lat', 'end_station_lon', 'bike_id', \n",
    "               'user_type', 'birth_year', 'gender']"
   ]
  },
  {
   "cell_type": "code",
   "execution_count": null,
   "metadata": {
    "pycharm": {
     "name": "#%%\n"
    }
   },
   "outputs": [],
   "source": []
  },
  {
   "cell_type": "code",
   "execution_count": 23,
   "metadata": {},
   "outputs": [],
   "source": [
    "DATE = '2019-09-06'\n",
    "mdata = data.loc[data['start_time'].str.contains(DATE)].sample(n=100)"
   ]
  },
  {
   "cell_type": "code",
   "execution_count": 20,
   "metadata": {},
   "outputs": [],
   "source": [
    "def prepare_trace(row):\n",
    "    return go.Scattermapbox(\n",
    "        lat=[row['start_station_lat'], row['end_station_lat']],\n",
    "        lon=[row['start_station_lon'], row['end_station_lon']],\n",
    "        mode='markers+lines',\n",
    "        marker=go.scattermapbox.Marker(\n",
    "            size=14\n",
    "    ))"
   ]
  },
  {
   "cell_type": "code",
   "execution_count": 24,
   "metadata": {
    "pycharm": {
     "is_executing": false
    }
   },
   "outputs": [
    {
     "data": {
      "application/vnd.plotly.v1+json": {
       "config": {
        "plotlyServerURL": "https://plot.ly"
       },
       "data": [
        {
         "lat": [
          40.74177603,
          40.73020660529954
         ],
         "lon": [
          -74.00149746,
          -73.99102628231049
         ],
         "marker": {
          "size": 14
         },
         "mode": "markers+lines",
         "type": "scattermapbox"
        },
        {
         "lat": [
          40.777507027547976,
          40.75110165
         ],
         "lon": [
          -73.98888587951659,
          -73.94073717
         ],
         "marker": {
          "size": 14
         },
         "mode": "markers+lines",
         "type": "scattermapbox"
        },
        {
         "lat": [
          40.718821999999996,
          40.732690000000005
         ],
         "lon": [
          -73.99596,
          -73.98974
         ],
         "marker": {
          "size": 14
         },
         "mode": "markers+lines",
         "type": "scattermapbox"
        },
        {
         "lat": [
          40.73454567,
          40.7381765
         ],
         "lon": [
          -73.99074142,
          -73.97738662
         ],
         "marker": {
          "size": 14
         },
         "mode": "markers+lines",
         "type": "scattermapbox"
        },
        {
         "lat": [
          40.76669671,
          40.75929124
         ],
         "lon": [
          -73.99061728,
          -73.98859651
         ],
         "marker": {
          "size": 14
         },
         "mode": "markers+lines",
         "type": "scattermapbox"
        },
        {
         "lat": [
          40.6827549,
          40.672815500000006
         ],
         "lon": [
          -73.98258555,
          -73.98352355
         ],
         "marker": {
          "size": 14
         },
         "mode": "markers+lines",
         "type": "scattermapbox"
        },
        {
         "lat": [
          40.714215,
          40.71782143
         ],
         "lon": [
          -73.981346,
          -73.97628939
         ],
         "marker": {
          "size": 14
         },
         "mode": "markers+lines",
         "type": "scattermapbox"
        },
        {
         "lat": [
          40.74286877312112,
          40.71450451
         ],
         "lon": [
          -73.98918628692627,
          -74.00562789
         ],
         "marker": {
          "size": 14
         },
         "mode": "markers+lines",
         "type": "scattermapbox"
        },
        {
         "lat": [
          40.67038370000001,
          40.69795031569544
         ],
         "lon": [
          -73.97839676,
          -73.97077560424805
         ],
         "marker": {
          "size": 14
         },
         "mode": "markers+lines",
         "type": "scattermapbox"
        },
        {
         "lat": [
          40.71427487,
          40.715815500000005
         ],
         "lon": [
          -73.98990025,
          -73.99422366
         ],
         "marker": {
          "size": 14
         },
         "mode": "markers+lines",
         "type": "scattermapbox"
        },
        {
         "lat": [
          40.720746999999996,
          40.72453734
         ],
         "lon": [
          -73.986274,
          -73.98185424
         ],
         "marker": {
          "size": 14
         },
         "mode": "markers+lines",
         "type": "scattermapbox"
        },
        {
         "lat": [
          40.76068327096592,
          40.76132983124814
         ],
         "lon": [
          -73.98452728986742,
          -73.97982001304626
         ],
         "marker": {
          "size": 14
         },
         "mode": "markers+lines",
         "type": "scattermapbox"
        },
        {
         "lat": [
          40.779668090073116,
          40.77492513
         ],
         "lon": [
          -73.98093044757842,
          -73.98266566
         ],
         "marker": {
          "size": 14
         },
         "mode": "markers+lines",
         "type": "scattermapbox"
        },
        {
         "lat": [
          40.72243797,
          40.70463334
         ],
         "lon": [
          -74.00566443,
          -74.01361706
         ],
         "marker": {
          "size": 14
         },
         "mode": "markers+lines",
         "type": "scattermapbox"
        },
        {
         "lat": [
          40.76727216,
          40.7746671
         ],
         "lon": [
          -73.99392888,
          -73.98470567
         ],
         "marker": {
          "size": 14
         },
         "mode": "markers+lines",
         "type": "scattermapbox"
        },
        {
         "lat": [
          40.72966729392978,
          40.734232
         ],
         "lon": [
          -73.98067966103555,
          -73.986923
         ],
         "marker": {
          "size": 14
         },
         "mode": "markers+lines",
         "type": "scattermapbox"
        },
        {
         "lat": [
          40.766368,
          40.77579376683666
         ],
         "lon": [
          -73.971518,
          -73.97620573639871
         ],
         "marker": {
          "size": 14
         },
         "mode": "markers+lines",
         "type": "scattermapbox"
        },
        {
         "lat": [
          40.74395411,
          40.73314259
         ],
         "lon": [
          -73.99144871,
          -73.97573881
         ],
         "marker": {
          "size": 14
         },
         "mode": "markers+lines",
         "type": "scattermapbox"
        },
        {
         "lat": [
          40.7919557,
          40.791270000000004
         ],
         "lon": [
          -73.968087,
          -73.964839
         ],
         "marker": {
          "size": 14
         },
         "mode": "markers+lines",
         "type": "scattermapbox"
        },
        {
         "lat": [
          40.76030096,
          40.751581
         ],
         "lon": [
          -73.99884222,
          -73.97791
         ],
         "marker": {
          "size": 14
         },
         "mode": "markers+lines",
         "type": "scattermapbox"
        },
        {
         "lat": [
          40.739445,
          40.75455731
         ],
         "lon": [
          -73.97680600000001,
          -73.96592976
         ],
         "marker": {
          "size": 14
         },
         "mode": "markers+lines",
         "type": "scattermapbox"
        },
        {
         "lat": [
          40.7489006,
          40.74238787
         ],
         "lon": [
          -73.97604882,
          -73.99726235
         ],
         "marker": {
          "size": 14
         },
         "mode": "markers+lines",
         "type": "scattermapbox"
        },
        {
         "lat": [
          40.740343200000005,
          40.73454567
         ],
         "lon": [
          -73.98955109,
          -73.99074142
         ],
         "marker": {
          "size": 14
         },
         "mode": "markers+lines",
         "type": "scattermapbox"
        },
        {
         "lat": [
          40.76669671,
          40.7746671
         ],
         "lon": [
          -73.99061728,
          -73.98470567
         ],
         "marker": {
          "size": 14
         },
         "mode": "markers+lines",
         "type": "scattermapbox"
        },
        {
         "lat": [
          40.75756989999999,
          40.75323098
         ],
         "lon": [
          -73.99098507,
          -73.97032517
         ],
         "marker": {
          "size": 14
         },
         "mode": "markers+lines",
         "type": "scattermapbox"
        },
        {
         "lat": [
          40.74475148,
          40.75066386
         ],
         "lon": [
          -73.99915362,
          -74.00176802
         ],
         "marker": {
          "size": 14
         },
         "mode": "markers+lines",
         "type": "scattermapbox"
        },
        {
         "lat": [
          40.73912601,
          40.73047309
         ],
         "lon": [
          -73.97973776,
          -73.98672378
         ],
         "marker": {
          "size": 14
         },
         "mode": "markers+lines",
         "type": "scattermapbox"
        },
        {
         "lat": [
          40.73704984,
          40.71911552
         ],
         "lon": [
          -73.99009296,
          -74.00666661
         ],
         "marker": {
          "size": 14
         },
         "mode": "markers+lines",
         "type": "scattermapbox"
        },
        {
         "lat": [
          40.801694,
          40.7987859
         ],
         "lon": [
          -73.957145,
          -73.9523
         ],
         "marker": {
          "size": 14
         },
         "mode": "markers+lines",
         "type": "scattermapbox"
        },
        {
         "lat": [
          40.7734066,
          40.76350532
         ],
         "lon": [
          -73.97782542,
          -73.97109243
         ],
         "marker": {
          "size": 14
         },
         "mode": "markers+lines",
         "type": "scattermapbox"
        },
        {
         "lat": [
          40.71625008,
          40.70365182
         ],
         "lon": [
          -74.0091059,
          -74.01167797
         ],
         "marker": {
          "size": 14
         },
         "mode": "markers+lines",
         "type": "scattermapbox"
        },
        {
         "lat": [
          40.73047747,
          40.73944820130404
         ],
         "lon": [
          -73.99906065,
          -74.00507032871245
         ],
         "marker": {
          "size": 14
         },
         "mode": "markers+lines",
         "type": "scattermapbox"
        },
        {
         "lat": [
          40.75660359,
          40.751396
         ],
         "lon": [
          -73.9979009,
          -74.00522600000001
         ],
         "marker": {
          "size": 14
         },
         "mode": "markers+lines",
         "type": "scattermapbox"
        },
        {
         "lat": [
          40.754120810779256,
          40.75898481399634
         ],
         "lon": [
          -73.98025184869765,
          -73.99379968643187
         ],
         "marker": {
          "size": 14
         },
         "mode": "markers+lines",
         "type": "scattermapbox"
        },
        {
         "lat": [
          40.72368361,
          40.729514962249496
         ],
         "lon": [
          -73.97574813,
          -73.99075269699097
         ],
         "marker": {
          "size": 14
         },
         "mode": "markers+lines",
         "type": "scattermapbox"
        },
        {
         "lat": [
          40.725570000000005,
          40.72036775298455
         ],
         "lon": [
          -73.94434,
          -73.96165072917937
         ],
         "marker": {
          "size": 14
         },
         "mode": "markers+lines",
         "type": "scattermapbox"
        },
        {
         "lat": [
          40.75660359,
          40.75066386
         ],
         "lon": [
          -73.9979009,
          -74.00176802
         ],
         "marker": {
          "size": 14
         },
         "mode": "markers+lines",
         "type": "scattermapbox"
        },
        {
         "lat": [
          40.72494672359416,
          40.73143724085228
         ],
         "lon": [
          -74.00165855884552,
          -73.99490341544151
         ],
         "marker": {
          "size": 14
         },
         "mode": "markers+lines",
         "type": "scattermapbox"
        },
        {
         "lat": [
          40.7149787,
          40.751396
         ],
         "lon": [
          -74.013012,
          -74.00522600000001
         ],
         "marker": {
          "size": 14
         },
         "mode": "markers+lines",
         "type": "scattermapbox"
        },
        {
         "lat": [
          40.71924,
          40.71413311
         ],
         "lon": [
          -73.95241999999999,
          -73.95234386
         ],
         "marker": {
          "size": 14
         },
         "mode": "markers+lines",
         "type": "scattermapbox"
        },
        {
         "lat": [
          40.717571,
          40.732690000000005
         ],
         "lon": [
          -74.005549,
          -73.98974
         ],
         "marker": {
          "size": 14
         },
         "mode": "markers+lines",
         "type": "scattermapbox"
        },
        {
         "lat": [
          40.7652654,
          40.77492513
         ],
         "lon": [
          -73.98192338,
          -73.98266566
         ],
         "marker": {
          "size": 14
         },
         "mode": "markers+lines",
         "type": "scattermapbox"
        },
        {
         "lat": [
          40.7689738,
          40.76584941
         ],
         "lon": [
          -73.95482273,
          -73.98690506
         ],
         "marker": {
          "size": 14
         },
         "mode": "markers+lines",
         "type": "scattermapbox"
        },
        {
         "lat": [
          40.777553742988864,
          40.76068327096592
         ],
         "lon": [
          -73.95512759685515,
          -73.98452728986742
         ],
         "marker": {
          "size": 14
         },
         "mode": "markers+lines",
         "type": "scattermapbox"
        },
        {
         "lat": [
          40.735238,
          40.75797322
         ],
         "lon": [
          -74.000271,
          -73.96603308
         ],
         "marker": {
          "size": 14
         },
         "mode": "markers+lines",
         "type": "scattermapbox"
        },
        {
         "lat": [
          40.6881529,
          40.692418292578466
         ],
         "lon": [
          -73.99520919,
          -73.98949474096298
         ],
         "marker": {
          "size": 14
         },
         "mode": "markers+lines",
         "type": "scattermapbox"
        },
        {
         "lat": [
          40.7505853470215,
          40.76019252
         ],
         "lon": [
          -73.9946848154068,
          -73.9912551
         ],
         "marker": {
          "size": 14
         },
         "mode": "markers+lines",
         "type": "scattermapbox"
        },
        {
         "lat": [
          40.72217444,
          40.75001986
         ],
         "lon": [
          -73.98368779,
          -73.96905301
         ],
         "marker": {
          "size": 14
         },
         "mode": "markers+lines",
         "type": "scattermapbox"
        },
        {
         "lat": [
          40.72210378668603,
          40.72243797
         ],
         "lon": [
          -73.99724900722505,
          -74.00566443
         ],
         "marker": {
          "size": 14
         },
         "mode": "markers+lines",
         "type": "scattermapbox"
        },
        {
         "lat": [
          40.7451677,
          40.76227205
         ],
         "lon": [
          -73.98683077,
          -73.98788205
         ],
         "marker": {
          "size": 14
         },
         "mode": "markers+lines",
         "type": "scattermapbox"
        },
        {
         "lat": [
          40.70365182,
          40.70569254
         ],
         "lon": [
          -74.01167797,
          -74.01677685
         ],
         "marker": {
          "size": 14
         },
         "mode": "markers+lines",
         "type": "scattermapbox"
        },
        {
         "lat": [
          40.754691750226016,
          40.751551
         ],
         "lon": [
          -73.9974018931389,
          -73.993934
         ],
         "marker": {
          "size": 14
         },
         "mode": "markers+lines",
         "type": "scattermapbox"
        },
        {
         "lat": [
          40.73221853,
          40.74144387
         ],
         "lon": [
          -73.98165557,
          -73.97536082
         ],
         "marker": {
          "size": 14
         },
         "mode": "markers+lines",
         "type": "scattermapbox"
        },
        {
         "lat": [
          40.751581,
          40.72743423
         ],
         "lon": [
          -73.97791,
          -73.99379025
         ],
         "marker": {
          "size": 14
         },
         "mode": "markers+lines",
         "type": "scattermapbox"
        },
        {
         "lat": [
          40.71534825,
          40.70853074
         ],
         "lon": [
          -73.96024116,
          -73.96408963
         ],
         "marker": {
          "size": 14
         },
         "mode": "markers+lines",
         "type": "scattermapbox"
        },
        {
         "lat": [
          40.70122128,
          40.71739973
         ],
         "lon": [
          -74.01234218,
          -73.98016555
         ],
         "marker": {
          "size": 14
         },
         "mode": "markers+lines",
         "type": "scattermapbox"
        },
        {
         "lat": [
          40.72217444,
          40.72502876
         ],
         "lon": [
          -73.98368779,
          -73.99069656
         ],
         "marker": {
          "size": 14
         },
         "mode": "markers+lines",
         "type": "scattermapbox"
        },
        {
         "lat": [
          40.7859201,
          40.79329668
         ],
         "lon": [
          -73.94860294,
          -73.9432083
         ],
         "marker": {
          "size": 14
         },
         "mode": "markers+lines",
         "type": "scattermapbox"
        },
        {
         "lat": [
          40.72953837,
          40.71273266
         ],
         "lon": [
          -73.98426726,
          -74.0046073
         ],
         "marker": {
          "size": 14
         },
         "mode": "markers+lines",
         "type": "scattermapbox"
        },
        {
         "lat": [
          40.77579376683666,
          40.745712100000006
         ],
         "lon": [
          -73.97620573639871,
          -73.98194829
         ],
         "marker": {
          "size": 14
         },
         "mode": "markers+lines",
         "type": "scattermapbox"
        },
        {
         "lat": [
          40.73226398,
          40.73704984
         ],
         "lon": [
          -73.99852205,
          -73.99009296
         ],
         "marker": {
          "size": 14
         },
         "mode": "markers+lines",
         "type": "scattermapbox"
        },
        {
         "lat": [
          40.74290902,
          40.7505853470215
         ],
         "lon": [
          -73.97706058,
          -73.9946848154068
         ],
         "marker": {
          "size": 14
         },
         "mode": "markers+lines",
         "type": "scattermapbox"
        },
        {
         "lat": [
          40.722055,
          40.71406667
         ],
         "lon": [
          -73.989111,
          -73.99293911
         ],
         "marker": {
          "size": 14
         },
         "mode": "markers+lines",
         "type": "scattermapbox"
        },
        {
         "lat": [
          40.69512845,
          40.68841742754083
         ],
         "lon": [
          -73.99595065,
          -73.98451656103134
         ],
         "marker": {
          "size": 14
         },
         "mode": "markers+lines",
         "type": "scattermapbox"
        },
        {
         "lat": [
          40.75898481399634,
          40.76132983124814
         ],
         "lon": [
          -73.99379968643187,
          -73.97982001304626
         ],
         "marker": {
          "size": 14
         },
         "mode": "markers+lines",
         "type": "scattermapbox"
        },
        {
         "lat": [
          40.73401143,
          40.72368361
         ],
         "lon": [
          -74.00293877,
          -73.97574813
         ],
         "marker": {
          "size": 14
         },
         "mode": "markers+lines",
         "type": "scattermapbox"
        },
        {
         "lat": [
          40.73172428,
          40.70463334
         ],
         "lon": [
          -74.00674436,
          -74.01361706
         ],
         "marker": {
          "size": 14
         },
         "mode": "markers+lines",
         "type": "scattermapbox"
        },
        {
         "lat": [
          40.72953837,
          40.72066442
         ],
         "lon": [
          -73.98426726,
          -73.98517977
         ],
         "marker": {
          "size": 14
         },
         "mode": "markers+lines",
         "type": "scattermapbox"
        },
        {
         "lat": [
          40.76087502,
          40.768254
         ],
         "lon": [
          -74.00277668,
          -73.988639
         ],
         "marker": {
          "size": 14
         },
         "mode": "markers+lines",
         "type": "scattermapbox"
        },
        {
         "lat": [
          40.72502876,
          40.72621788
         ],
         "lon": [
          -73.99069656,
          -73.98379855
         ],
         "marker": {
          "size": 14
         },
         "mode": "markers+lines",
         "type": "scattermapbox"
        },
        {
         "lat": [
          40.7546011026,
          40.73624527
         ],
         "lon": [
          -73.971878855,
          -73.98473765
         ],
         "marker": {
          "size": 14
         },
         "mode": "markers+lines",
         "type": "scattermapbox"
        },
        {
         "lat": [
          40.692418292578466,
          40.71273266
         ],
         "lon": [
          -73.98949474096298,
          -74.0046073
         ],
         "marker": {
          "size": 14
         },
         "mode": "markers+lines",
         "type": "scattermapbox"
        },
        {
         "lat": [
          40.7568001,
          40.75756989999999
         ],
         "lon": [
          -73.98291153,
          -73.99098507
         ],
         "marker": {
          "size": 14
         },
         "mode": "markers+lines",
         "type": "scattermapbox"
        },
        {
         "lat": [
          40.72953837,
          40.72082834
         ],
         "lon": [
          -73.98426726,
          -73.97793172
         ],
         "marker": {
          "size": 14
         },
         "mode": "markers+lines",
         "type": "scattermapbox"
        },
        {
         "lat": [
          40.7454973,
          40.741459000000006
         ],
         "lon": [
          -74.00197139,
          -73.983293
         ],
         "marker": {
          "size": 14
         },
         "mode": "markers+lines",
         "type": "scattermapbox"
        },
        {
         "lat": [
          40.74765947,
          40.740343200000005
         ],
         "lon": [
          -73.98490707,
          -73.98955109
         ],
         "marker": {
          "size": 14
         },
         "mode": "markers+lines",
         "type": "scattermapbox"
        },
        {
         "lat": [
          40.77492513,
          40.7921
         ],
         "lon": [
          -73.98266566,
          -73.9739
         ],
         "marker": {
          "size": 14
         },
         "mode": "markers+lines",
         "type": "scattermapbox"
        },
        {
         "lat": [
          40.73401143,
          40.74177603
         ],
         "lon": [
          -74.00293877,
          -74.00149746
         ],
         "marker": {
          "size": 14
         },
         "mode": "markers+lines",
         "type": "scattermapbox"
        },
        {
         "lat": [
          40.71534825,
          40.71915571696044
         ],
         "lon": [
          -73.96024116,
          -73.94885390996933
         ],
         "marker": {
          "size": 14
         },
         "mode": "markers+lines",
         "type": "scattermapbox"
        },
        {
         "lat": [
          40.735445,
          40.744219
         ],
         "lon": [
          -73.99431,
          -73.97121214
         ],
         "marker": {
          "size": 14
         },
         "mode": "markers+lines",
         "type": "scattermapbox"
        },
        {
         "lat": [
          40.69308257,
          40.69196566
         ],
         "lon": [
          -73.97178913,
          -73.9813018
         ],
         "marker": {
          "size": 14
         },
         "mode": "markers+lines",
         "type": "scattermapbox"
        },
        {
         "lat": [
          40.70255088,
          40.697787
         ],
         "lon": [
          -73.98940236,
          -73.973736
         ],
         "marker": {
          "size": 14
         },
         "mode": "markers+lines",
         "type": "scattermapbox"
        },
        {
         "lat": [
          40.72430832160217,
          40.72243797
         ],
         "lon": [
          -74.00473035871983,
          -74.00566443
         ],
         "marker": {
          "size": 14
         },
         "mode": "markers+lines",
         "type": "scattermapbox"
        },
        {
         "lat": [
          40.72740794,
          40.718821999999996
         ],
         "lon": [
          -73.98142006,
          -73.99596
         ],
         "marker": {
          "size": 14
         },
         "mode": "markers+lines",
         "type": "scattermapbox"
        },
        {
         "lat": [
          40.75992262,
          40.75038009
         ],
         "lon": [
          -73.97648516,
          -73.98338988
         ],
         "marker": {
          "size": 14
         },
         "mode": "markers+lines",
         "type": "scattermapbox"
        },
        {
         "lat": [
          40.73944820130404,
          40.73381219196632
         ],
         "lon": [
          -74.00507032871245,
          -73.9805442094803
         ],
         "marker": {
          "size": 14
         },
         "mode": "markers+lines",
         "type": "scattermapbox"
        },
        {
         "lat": [
          40.75466591,
          40.73143724085228
         ],
         "lon": [
          -73.99138152,
          -73.99490341544151
         ],
         "marker": {
          "size": 14
         },
         "mode": "markers+lines",
         "type": "scattermapbox"
        },
        {
         "lat": [
          40.745038,
          40.74731
         ],
         "lon": [
          -73.957539,
          -73.95451
         ],
         "marker": {
          "size": 14
         },
         "mode": "markers+lines",
         "type": "scattermapbox"
        },
        {
         "lat": [
          40.734232,
          40.74096374
         ],
         "lon": [
          -73.986923,
          -73.98602213
         ],
         "marker": {
          "size": 14
         },
         "mode": "markers+lines",
         "type": "scattermapbox"
        },
        {
         "lat": [
          40.740343200000005,
          40.701907
         ],
         "lon": [
          -73.98955109,
          -74.013942
         ],
         "marker": {
          "size": 14
         },
         "mode": "markers+lines",
         "type": "scattermapbox"
        },
        {
         "lat": [
          40.74334935,
          40.73726186
         ],
         "lon": [
          -74.00681753,
          -73.99238967
         ],
         "marker": {
          "size": 14
         },
         "mode": "markers+lines",
         "type": "scattermapbox"
        },
        {
         "lat": [
          40.77565541,
          40.74780373
         ],
         "lon": [
          -73.95068615,
          -73.97344190000001
         ],
         "marker": {
          "size": 14
         },
         "mode": "markers+lines",
         "type": "scattermapbox"
        },
        {
         "lat": [
          40.75660359,
          40.75724567911726
         ],
         "lon": [
          -73.9979009,
          -73.97805914282799
         ],
         "marker": {
          "size": 14
         },
         "mode": "markers+lines",
         "type": "scattermapbox"
        },
        {
         "lat": [
          40.7859201,
          40.787801
         ],
         "lon": [
          -73.94860294,
          -73.953559
         ],
         "marker": {
          "size": 14
         },
         "mode": "markers+lines",
         "type": "scattermapbox"
        },
        {
         "lat": [
          40.770513,
          40.76344058
         ],
         "lon": [
          -73.988038,
          -73.98268129
         ],
         "marker": {
          "size": 14
         },
         "mode": "markers+lines",
         "type": "scattermapbox"
        },
        {
         "lat": [
          40.69610226,
          40.68851534
         ],
         "lon": [
          -73.96751037,
          -73.9647628
         ],
         "marker": {
          "size": 14
         },
         "mode": "markers+lines",
         "type": "scattermapbox"
        },
        {
         "lat": [
          40.74708586,
          40.74232744
         ],
         "lon": [
          -73.94977234,
          -73.95411749
         ],
         "marker": {
          "size": 14
         },
         "mode": "markers+lines",
         "type": "scattermapbox"
        },
        {
         "lat": [
          40.69610226,
          40.69236178
         ],
         "lon": [
          -73.96751037,
          -73.98631746
         ],
         "marker": {
          "size": 14
         },
         "mode": "markers+lines",
         "type": "scattermapbox"
        },
        {
         "lat": [
          40.7652654,
          40.70905623
         ],
         "lon": [
          -73.98192338,
          -74.01043382
         ],
         "marker": {
          "size": 14
         },
         "mode": "markers+lines",
         "type": "scattermapbox"
        },
        {
         "lat": [
          40.71219906,
          40.71450451
         ],
         "lon": [
          -73.97948148,
          -74.00562789
         ],
         "marker": {
          "size": 14
         },
         "mode": "markers+lines",
         "type": "scattermapbox"
        }
       ],
       "layout": {
        "hovermode": "closest",
        "mapbox": {
         "accesstoken": "pk.eyJ1IjoibWFyY2VsbG85NiIsImEiOiJjazIzaDhuOGswbXRtM2dtemM4NjZweGttIn0.oV2HBhATRAfIfmgd8VY27w",
         "bearing": 0,
         "center": {
          "lat": 45,
          "lon": -73
         },
         "pitch": 0,
         "zoom": 5
        },
        "template": {
         "data": {
          "bar": [
           {
            "error_x": {
             "color": "#2a3f5f"
            },
            "error_y": {
             "color": "#2a3f5f"
            },
            "marker": {
             "line": {
              "color": "#E5ECF6",
              "width": 0.5
             }
            },
            "type": "bar"
           }
          ],
          "barpolar": [
           {
            "marker": {
             "line": {
              "color": "#E5ECF6",
              "width": 0.5
             }
            },
            "type": "barpolar"
           }
          ],
          "carpet": [
           {
            "aaxis": {
             "endlinecolor": "#2a3f5f",
             "gridcolor": "white",
             "linecolor": "white",
             "minorgridcolor": "white",
             "startlinecolor": "#2a3f5f"
            },
            "baxis": {
             "endlinecolor": "#2a3f5f",
             "gridcolor": "white",
             "linecolor": "white",
             "minorgridcolor": "white",
             "startlinecolor": "#2a3f5f"
            },
            "type": "carpet"
           }
          ],
          "choropleth": [
           {
            "colorbar": {
             "outlinewidth": 0,
             "ticks": ""
            },
            "type": "choropleth"
           }
          ],
          "contour": [
           {
            "colorbar": {
             "outlinewidth": 0,
             "ticks": ""
            },
            "colorscale": [
             [
              0,
              "#0d0887"
             ],
             [
              0.1111111111111111,
              "#46039f"
             ],
             [
              0.2222222222222222,
              "#7201a8"
             ],
             [
              0.3333333333333333,
              "#9c179e"
             ],
             [
              0.4444444444444444,
              "#bd3786"
             ],
             [
              0.5555555555555556,
              "#d8576b"
             ],
             [
              0.6666666666666666,
              "#ed7953"
             ],
             [
              0.7777777777777778,
              "#fb9f3a"
             ],
             [
              0.8888888888888888,
              "#fdca26"
             ],
             [
              1,
              "#f0f921"
             ]
            ],
            "type": "contour"
           }
          ],
          "contourcarpet": [
           {
            "colorbar": {
             "outlinewidth": 0,
             "ticks": ""
            },
            "type": "contourcarpet"
           }
          ],
          "heatmap": [
           {
            "colorbar": {
             "outlinewidth": 0,
             "ticks": ""
            },
            "colorscale": [
             [
              0,
              "#0d0887"
             ],
             [
              0.1111111111111111,
              "#46039f"
             ],
             [
              0.2222222222222222,
              "#7201a8"
             ],
             [
              0.3333333333333333,
              "#9c179e"
             ],
             [
              0.4444444444444444,
              "#bd3786"
             ],
             [
              0.5555555555555556,
              "#d8576b"
             ],
             [
              0.6666666666666666,
              "#ed7953"
             ],
             [
              0.7777777777777778,
              "#fb9f3a"
             ],
             [
              0.8888888888888888,
              "#fdca26"
             ],
             [
              1,
              "#f0f921"
             ]
            ],
            "type": "heatmap"
           }
          ],
          "heatmapgl": [
           {
            "colorbar": {
             "outlinewidth": 0,
             "ticks": ""
            },
            "colorscale": [
             [
              0,
              "#0d0887"
             ],
             [
              0.1111111111111111,
              "#46039f"
             ],
             [
              0.2222222222222222,
              "#7201a8"
             ],
             [
              0.3333333333333333,
              "#9c179e"
             ],
             [
              0.4444444444444444,
              "#bd3786"
             ],
             [
              0.5555555555555556,
              "#d8576b"
             ],
             [
              0.6666666666666666,
              "#ed7953"
             ],
             [
              0.7777777777777778,
              "#fb9f3a"
             ],
             [
              0.8888888888888888,
              "#fdca26"
             ],
             [
              1,
              "#f0f921"
             ]
            ],
            "type": "heatmapgl"
           }
          ],
          "histogram": [
           {
            "marker": {
             "colorbar": {
              "outlinewidth": 0,
              "ticks": ""
             }
            },
            "type": "histogram"
           }
          ],
          "histogram2d": [
           {
            "colorbar": {
             "outlinewidth": 0,
             "ticks": ""
            },
            "colorscale": [
             [
              0,
              "#0d0887"
             ],
             [
              0.1111111111111111,
              "#46039f"
             ],
             [
              0.2222222222222222,
              "#7201a8"
             ],
             [
              0.3333333333333333,
              "#9c179e"
             ],
             [
              0.4444444444444444,
              "#bd3786"
             ],
             [
              0.5555555555555556,
              "#d8576b"
             ],
             [
              0.6666666666666666,
              "#ed7953"
             ],
             [
              0.7777777777777778,
              "#fb9f3a"
             ],
             [
              0.8888888888888888,
              "#fdca26"
             ],
             [
              1,
              "#f0f921"
             ]
            ],
            "type": "histogram2d"
           }
          ],
          "histogram2dcontour": [
           {
            "colorbar": {
             "outlinewidth": 0,
             "ticks": ""
            },
            "colorscale": [
             [
              0,
              "#0d0887"
             ],
             [
              0.1111111111111111,
              "#46039f"
             ],
             [
              0.2222222222222222,
              "#7201a8"
             ],
             [
              0.3333333333333333,
              "#9c179e"
             ],
             [
              0.4444444444444444,
              "#bd3786"
             ],
             [
              0.5555555555555556,
              "#d8576b"
             ],
             [
              0.6666666666666666,
              "#ed7953"
             ],
             [
              0.7777777777777778,
              "#fb9f3a"
             ],
             [
              0.8888888888888888,
              "#fdca26"
             ],
             [
              1,
              "#f0f921"
             ]
            ],
            "type": "histogram2dcontour"
           }
          ],
          "mesh3d": [
           {
            "colorbar": {
             "outlinewidth": 0,
             "ticks": ""
            },
            "type": "mesh3d"
           }
          ],
          "parcoords": [
           {
            "line": {
             "colorbar": {
              "outlinewidth": 0,
              "ticks": ""
             }
            },
            "type": "parcoords"
           }
          ],
          "scatter": [
           {
            "marker": {
             "colorbar": {
              "outlinewidth": 0,
              "ticks": ""
             }
            },
            "type": "scatter"
           }
          ],
          "scatter3d": [
           {
            "line": {
             "colorbar": {
              "outlinewidth": 0,
              "ticks": ""
             }
            },
            "marker": {
             "colorbar": {
              "outlinewidth": 0,
              "ticks": ""
             }
            },
            "type": "scatter3d"
           }
          ],
          "scattercarpet": [
           {
            "marker": {
             "colorbar": {
              "outlinewidth": 0,
              "ticks": ""
             }
            },
            "type": "scattercarpet"
           }
          ],
          "scattergeo": [
           {
            "marker": {
             "colorbar": {
              "outlinewidth": 0,
              "ticks": ""
             }
            },
            "type": "scattergeo"
           }
          ],
          "scattergl": [
           {
            "marker": {
             "colorbar": {
              "outlinewidth": 0,
              "ticks": ""
             }
            },
            "type": "scattergl"
           }
          ],
          "scattermapbox": [
           {
            "marker": {
             "colorbar": {
              "outlinewidth": 0,
              "ticks": ""
             }
            },
            "type": "scattermapbox"
           }
          ],
          "scatterpolar": [
           {
            "marker": {
             "colorbar": {
              "outlinewidth": 0,
              "ticks": ""
             }
            },
            "type": "scatterpolar"
           }
          ],
          "scatterpolargl": [
           {
            "marker": {
             "colorbar": {
              "outlinewidth": 0,
              "ticks": ""
             }
            },
            "type": "scatterpolargl"
           }
          ],
          "scatterternary": [
           {
            "marker": {
             "colorbar": {
              "outlinewidth": 0,
              "ticks": ""
             }
            },
            "type": "scatterternary"
           }
          ],
          "surface": [
           {
            "colorbar": {
             "outlinewidth": 0,
             "ticks": ""
            },
            "colorscale": [
             [
              0,
              "#0d0887"
             ],
             [
              0.1111111111111111,
              "#46039f"
             ],
             [
              0.2222222222222222,
              "#7201a8"
             ],
             [
              0.3333333333333333,
              "#9c179e"
             ],
             [
              0.4444444444444444,
              "#bd3786"
             ],
             [
              0.5555555555555556,
              "#d8576b"
             ],
             [
              0.6666666666666666,
              "#ed7953"
             ],
             [
              0.7777777777777778,
              "#fb9f3a"
             ],
             [
              0.8888888888888888,
              "#fdca26"
             ],
             [
              1,
              "#f0f921"
             ]
            ],
            "type": "surface"
           }
          ],
          "table": [
           {
            "cells": {
             "fill": {
              "color": "#EBF0F8"
             },
             "line": {
              "color": "white"
             }
            },
            "header": {
             "fill": {
              "color": "#C8D4E3"
             },
             "line": {
              "color": "white"
             }
            },
            "type": "table"
           }
          ]
         },
         "layout": {
          "annotationdefaults": {
           "arrowcolor": "#2a3f5f",
           "arrowhead": 0,
           "arrowwidth": 1
          },
          "colorscale": {
           "diverging": [
            [
             0,
             "#8e0152"
            ],
            [
             0.1,
             "#c51b7d"
            ],
            [
             0.2,
             "#de77ae"
            ],
            [
             0.3,
             "#f1b6da"
            ],
            [
             0.4,
             "#fde0ef"
            ],
            [
             0.5,
             "#f7f7f7"
            ],
            [
             0.6,
             "#e6f5d0"
            ],
            [
             0.7,
             "#b8e186"
            ],
            [
             0.8,
             "#7fbc41"
            ],
            [
             0.9,
             "#4d9221"
            ],
            [
             1,
             "#276419"
            ]
           ],
           "sequential": [
            [
             0,
             "#0d0887"
            ],
            [
             0.1111111111111111,
             "#46039f"
            ],
            [
             0.2222222222222222,
             "#7201a8"
            ],
            [
             0.3333333333333333,
             "#9c179e"
            ],
            [
             0.4444444444444444,
             "#bd3786"
            ],
            [
             0.5555555555555556,
             "#d8576b"
            ],
            [
             0.6666666666666666,
             "#ed7953"
            ],
            [
             0.7777777777777778,
             "#fb9f3a"
            ],
            [
             0.8888888888888888,
             "#fdca26"
            ],
            [
             1,
             "#f0f921"
            ]
           ],
           "sequentialminus": [
            [
             0,
             "#0d0887"
            ],
            [
             0.1111111111111111,
             "#46039f"
            ],
            [
             0.2222222222222222,
             "#7201a8"
            ],
            [
             0.3333333333333333,
             "#9c179e"
            ],
            [
             0.4444444444444444,
             "#bd3786"
            ],
            [
             0.5555555555555556,
             "#d8576b"
            ],
            [
             0.6666666666666666,
             "#ed7953"
            ],
            [
             0.7777777777777778,
             "#fb9f3a"
            ],
            [
             0.8888888888888888,
             "#fdca26"
            ],
            [
             1,
             "#f0f921"
            ]
           ]
          },
          "colorway": [
           "#636efa",
           "#EF553B",
           "#00cc96",
           "#ab63fa",
           "#FFA15A",
           "#19d3f3",
           "#FF6692",
           "#B6E880",
           "#FF97FF",
           "#FECB52"
          ],
          "font": {
           "color": "#2a3f5f"
          },
          "geo": {
           "bgcolor": "white",
           "lakecolor": "white",
           "landcolor": "#E5ECF6",
           "showlakes": true,
           "showland": true,
           "subunitcolor": "white"
          },
          "hoverlabel": {
           "align": "left"
          },
          "hovermode": "closest",
          "mapbox": {
           "style": "light"
          },
          "paper_bgcolor": "white",
          "plot_bgcolor": "#E5ECF6",
          "polar": {
           "angularaxis": {
            "gridcolor": "white",
            "linecolor": "white",
            "ticks": ""
           },
           "bgcolor": "#E5ECF6",
           "radialaxis": {
            "gridcolor": "white",
            "linecolor": "white",
            "ticks": ""
           }
          },
          "scene": {
           "xaxis": {
            "backgroundcolor": "#E5ECF6",
            "gridcolor": "white",
            "gridwidth": 2,
            "linecolor": "white",
            "showbackground": true,
            "ticks": "",
            "zerolinecolor": "white"
           },
           "yaxis": {
            "backgroundcolor": "#E5ECF6",
            "gridcolor": "white",
            "gridwidth": 2,
            "linecolor": "white",
            "showbackground": true,
            "ticks": "",
            "zerolinecolor": "white"
           },
           "zaxis": {
            "backgroundcolor": "#E5ECF6",
            "gridcolor": "white",
            "gridwidth": 2,
            "linecolor": "white",
            "showbackground": true,
            "ticks": "",
            "zerolinecolor": "white"
           }
          },
          "shapedefaults": {
           "line": {
            "color": "#2a3f5f"
           }
          },
          "ternary": {
           "aaxis": {
            "gridcolor": "white",
            "linecolor": "white",
            "ticks": ""
           },
           "baxis": {
            "gridcolor": "white",
            "linecolor": "white",
            "ticks": ""
           },
           "bgcolor": "#E5ECF6",
           "caxis": {
            "gridcolor": "white",
            "linecolor": "white",
            "ticks": ""
           }
          },
          "title": {
           "x": 0.05
          },
          "xaxis": {
           "automargin": true,
           "gridcolor": "white",
           "linecolor": "white",
           "ticks": "",
           "zerolinecolor": "white",
           "zerolinewidth": 2
          },
          "yaxis": {
           "automargin": true,
           "gridcolor": "white",
           "linecolor": "white",
           "ticks": "",
           "zerolinecolor": "white",
           "zerolinewidth": 2
          }
         }
        }
       }
      },
      "text/html": [
       "<div>\n",
       "        \n",
       "        \n",
       "            <div id=\"8a09e058-4283-4d83-9fad-e22f900e742e\" class=\"plotly-graph-div\" style=\"height:525px; width:100%;\"></div>\n",
       "            <script type=\"text/javascript\">\n",
       "                require([\"plotly\"], function(Plotly) {\n",
       "                    window.PLOTLYENV=window.PLOTLYENV || {};\n",
       "                    \n",
       "                if (document.getElementById(\"8a09e058-4283-4d83-9fad-e22f900e742e\")) {\n",
       "                    Plotly.newPlot(\n",
       "                        '8a09e058-4283-4d83-9fad-e22f900e742e',\n",
       "                        [{\"lat\": [40.74177603, 40.73020660529954], \"lon\": [-74.00149746, -73.99102628231049], \"marker\": {\"size\": 14}, \"mode\": \"markers+lines\", \"type\": \"scattermapbox\"}, {\"lat\": [40.777507027547976, 40.75110165], \"lon\": [-73.98888587951659, -73.94073717], \"marker\": {\"size\": 14}, \"mode\": \"markers+lines\", \"type\": \"scattermapbox\"}, {\"lat\": [40.718821999999996, 40.732690000000005], \"lon\": [-73.99596, -73.98974], \"marker\": {\"size\": 14}, \"mode\": \"markers+lines\", \"type\": \"scattermapbox\"}, {\"lat\": [40.73454567, 40.7381765], \"lon\": [-73.99074142, -73.97738662], \"marker\": {\"size\": 14}, \"mode\": \"markers+lines\", \"type\": \"scattermapbox\"}, {\"lat\": [40.76669671, 40.75929124], \"lon\": [-73.99061728, -73.98859651], \"marker\": {\"size\": 14}, \"mode\": \"markers+lines\", \"type\": \"scattermapbox\"}, {\"lat\": [40.6827549, 40.672815500000006], \"lon\": [-73.98258555, -73.98352355], \"marker\": {\"size\": 14}, \"mode\": \"markers+lines\", \"type\": \"scattermapbox\"}, {\"lat\": [40.714215, 40.71782143], \"lon\": [-73.981346, -73.97628939], \"marker\": {\"size\": 14}, \"mode\": \"markers+lines\", \"type\": \"scattermapbox\"}, {\"lat\": [40.74286877312112, 40.71450451], \"lon\": [-73.98918628692627, -74.00562789], \"marker\": {\"size\": 14}, \"mode\": \"markers+lines\", \"type\": \"scattermapbox\"}, {\"lat\": [40.67038370000001, 40.69795031569544], \"lon\": [-73.97839676, -73.97077560424805], \"marker\": {\"size\": 14}, \"mode\": \"markers+lines\", \"type\": \"scattermapbox\"}, {\"lat\": [40.71427487, 40.715815500000005], \"lon\": [-73.98990025, -73.99422366], \"marker\": {\"size\": 14}, \"mode\": \"markers+lines\", \"type\": \"scattermapbox\"}, {\"lat\": [40.720746999999996, 40.72453734], \"lon\": [-73.986274, -73.98185424], \"marker\": {\"size\": 14}, \"mode\": \"markers+lines\", \"type\": \"scattermapbox\"}, {\"lat\": [40.76068327096592, 40.76132983124814], \"lon\": [-73.98452728986742, -73.97982001304626], \"marker\": {\"size\": 14}, \"mode\": \"markers+lines\", \"type\": \"scattermapbox\"}, {\"lat\": [40.779668090073116, 40.77492513], \"lon\": [-73.98093044757842, -73.98266566], \"marker\": {\"size\": 14}, \"mode\": \"markers+lines\", \"type\": \"scattermapbox\"}, {\"lat\": [40.72243797, 40.70463334], \"lon\": [-74.00566443, -74.01361706], \"marker\": {\"size\": 14}, \"mode\": \"markers+lines\", \"type\": \"scattermapbox\"}, {\"lat\": [40.76727216, 40.7746671], \"lon\": [-73.99392888, -73.98470567], \"marker\": {\"size\": 14}, \"mode\": \"markers+lines\", \"type\": \"scattermapbox\"}, {\"lat\": [40.72966729392978, 40.734232], \"lon\": [-73.98067966103555, -73.986923], \"marker\": {\"size\": 14}, \"mode\": \"markers+lines\", \"type\": \"scattermapbox\"}, {\"lat\": [40.766368, 40.77579376683666], \"lon\": [-73.971518, -73.97620573639871], \"marker\": {\"size\": 14}, \"mode\": \"markers+lines\", \"type\": \"scattermapbox\"}, {\"lat\": [40.74395411, 40.73314259], \"lon\": [-73.99144871, -73.97573881], \"marker\": {\"size\": 14}, \"mode\": \"markers+lines\", \"type\": \"scattermapbox\"}, {\"lat\": [40.7919557, 40.791270000000004], \"lon\": [-73.968087, -73.964839], \"marker\": {\"size\": 14}, \"mode\": \"markers+lines\", \"type\": \"scattermapbox\"}, {\"lat\": [40.76030096, 40.751581], \"lon\": [-73.99884222, -73.97791], \"marker\": {\"size\": 14}, \"mode\": \"markers+lines\", \"type\": \"scattermapbox\"}, {\"lat\": [40.739445, 40.75455731], \"lon\": [-73.97680600000001, -73.96592976], \"marker\": {\"size\": 14}, \"mode\": \"markers+lines\", \"type\": \"scattermapbox\"}, {\"lat\": [40.7489006, 40.74238787], \"lon\": [-73.97604882, -73.99726235], \"marker\": {\"size\": 14}, \"mode\": \"markers+lines\", \"type\": \"scattermapbox\"}, {\"lat\": [40.740343200000005, 40.73454567], \"lon\": [-73.98955109, -73.99074142], \"marker\": {\"size\": 14}, \"mode\": \"markers+lines\", \"type\": \"scattermapbox\"}, {\"lat\": [40.76669671, 40.7746671], \"lon\": [-73.99061728, -73.98470567], \"marker\": {\"size\": 14}, \"mode\": \"markers+lines\", \"type\": \"scattermapbox\"}, {\"lat\": [40.75756989999999, 40.75323098], \"lon\": [-73.99098507, -73.97032517], \"marker\": {\"size\": 14}, \"mode\": \"markers+lines\", \"type\": \"scattermapbox\"}, {\"lat\": [40.74475148, 40.75066386], \"lon\": [-73.99915362, -74.00176802], \"marker\": {\"size\": 14}, \"mode\": \"markers+lines\", \"type\": \"scattermapbox\"}, {\"lat\": [40.73912601, 40.73047309], \"lon\": [-73.97973776, -73.98672378], \"marker\": {\"size\": 14}, \"mode\": \"markers+lines\", \"type\": \"scattermapbox\"}, {\"lat\": [40.73704984, 40.71911552], \"lon\": [-73.99009296, -74.00666661], \"marker\": {\"size\": 14}, \"mode\": \"markers+lines\", \"type\": \"scattermapbox\"}, {\"lat\": [40.801694, 40.7987859], \"lon\": [-73.957145, -73.9523], \"marker\": {\"size\": 14}, \"mode\": \"markers+lines\", \"type\": \"scattermapbox\"}, {\"lat\": [40.7734066, 40.76350532], \"lon\": [-73.97782542, -73.97109243], \"marker\": {\"size\": 14}, \"mode\": \"markers+lines\", \"type\": \"scattermapbox\"}, {\"lat\": [40.71625008, 40.70365182], \"lon\": [-74.0091059, -74.01167797], \"marker\": {\"size\": 14}, \"mode\": \"markers+lines\", \"type\": \"scattermapbox\"}, {\"lat\": [40.73047747, 40.73944820130404], \"lon\": [-73.99906065, -74.00507032871245], \"marker\": {\"size\": 14}, \"mode\": \"markers+lines\", \"type\": \"scattermapbox\"}, {\"lat\": [40.75660359, 40.751396], \"lon\": [-73.9979009, -74.00522600000001], \"marker\": {\"size\": 14}, \"mode\": \"markers+lines\", \"type\": \"scattermapbox\"}, {\"lat\": [40.754120810779256, 40.75898481399634], \"lon\": [-73.98025184869765, -73.99379968643187], \"marker\": {\"size\": 14}, \"mode\": \"markers+lines\", \"type\": \"scattermapbox\"}, {\"lat\": [40.72368361, 40.729514962249496], \"lon\": [-73.97574813, -73.99075269699097], \"marker\": {\"size\": 14}, \"mode\": \"markers+lines\", \"type\": \"scattermapbox\"}, {\"lat\": [40.725570000000005, 40.72036775298455], \"lon\": [-73.94434, -73.96165072917937], \"marker\": {\"size\": 14}, \"mode\": \"markers+lines\", \"type\": \"scattermapbox\"}, {\"lat\": [40.75660359, 40.75066386], \"lon\": [-73.9979009, -74.00176802], \"marker\": {\"size\": 14}, \"mode\": \"markers+lines\", \"type\": \"scattermapbox\"}, {\"lat\": [40.72494672359416, 40.73143724085228], \"lon\": [-74.00165855884552, -73.99490341544151], \"marker\": {\"size\": 14}, \"mode\": \"markers+lines\", \"type\": \"scattermapbox\"}, {\"lat\": [40.7149787, 40.751396], \"lon\": [-74.013012, -74.00522600000001], \"marker\": {\"size\": 14}, \"mode\": \"markers+lines\", \"type\": \"scattermapbox\"}, {\"lat\": [40.71924, 40.71413311], \"lon\": [-73.95241999999999, -73.95234386], \"marker\": {\"size\": 14}, \"mode\": \"markers+lines\", \"type\": \"scattermapbox\"}, {\"lat\": [40.717571, 40.732690000000005], \"lon\": [-74.005549, -73.98974], \"marker\": {\"size\": 14}, \"mode\": \"markers+lines\", \"type\": \"scattermapbox\"}, {\"lat\": [40.7652654, 40.77492513], \"lon\": [-73.98192338, -73.98266566], \"marker\": {\"size\": 14}, \"mode\": \"markers+lines\", \"type\": \"scattermapbox\"}, {\"lat\": [40.7689738, 40.76584941], \"lon\": [-73.95482273, -73.98690506], \"marker\": {\"size\": 14}, \"mode\": \"markers+lines\", \"type\": \"scattermapbox\"}, {\"lat\": [40.777553742988864, 40.76068327096592], \"lon\": [-73.95512759685515, -73.98452728986742], \"marker\": {\"size\": 14}, \"mode\": \"markers+lines\", \"type\": \"scattermapbox\"}, {\"lat\": [40.735238, 40.75797322], \"lon\": [-74.000271, -73.96603308], \"marker\": {\"size\": 14}, \"mode\": \"markers+lines\", \"type\": \"scattermapbox\"}, {\"lat\": [40.6881529, 40.692418292578466], \"lon\": [-73.99520919, -73.98949474096298], \"marker\": {\"size\": 14}, \"mode\": \"markers+lines\", \"type\": \"scattermapbox\"}, {\"lat\": [40.7505853470215, 40.76019252], \"lon\": [-73.9946848154068, -73.9912551], \"marker\": {\"size\": 14}, \"mode\": \"markers+lines\", \"type\": \"scattermapbox\"}, {\"lat\": [40.72217444, 40.75001986], \"lon\": [-73.98368779, -73.96905301], \"marker\": {\"size\": 14}, \"mode\": \"markers+lines\", \"type\": \"scattermapbox\"}, {\"lat\": [40.72210378668603, 40.72243797], \"lon\": [-73.99724900722505, -74.00566443], \"marker\": {\"size\": 14}, \"mode\": \"markers+lines\", \"type\": \"scattermapbox\"}, {\"lat\": [40.7451677, 40.76227205], \"lon\": [-73.98683077, -73.98788205], \"marker\": {\"size\": 14}, \"mode\": \"markers+lines\", \"type\": \"scattermapbox\"}, {\"lat\": [40.70365182, 40.70569254], \"lon\": [-74.01167797, -74.01677685], \"marker\": {\"size\": 14}, \"mode\": \"markers+lines\", \"type\": \"scattermapbox\"}, {\"lat\": [40.754691750226016, 40.751551], \"lon\": [-73.9974018931389, -73.993934], \"marker\": {\"size\": 14}, \"mode\": \"markers+lines\", \"type\": \"scattermapbox\"}, {\"lat\": [40.73221853, 40.74144387], \"lon\": [-73.98165557, -73.97536082], \"marker\": {\"size\": 14}, \"mode\": \"markers+lines\", \"type\": \"scattermapbox\"}, {\"lat\": [40.751581, 40.72743423], \"lon\": [-73.97791, -73.99379025], \"marker\": {\"size\": 14}, \"mode\": \"markers+lines\", \"type\": \"scattermapbox\"}, {\"lat\": [40.71534825, 40.70853074], \"lon\": [-73.96024116, -73.96408963], \"marker\": {\"size\": 14}, \"mode\": \"markers+lines\", \"type\": \"scattermapbox\"}, {\"lat\": [40.70122128, 40.71739973], \"lon\": [-74.01234218, -73.98016555], \"marker\": {\"size\": 14}, \"mode\": \"markers+lines\", \"type\": \"scattermapbox\"}, {\"lat\": [40.72217444, 40.72502876], \"lon\": [-73.98368779, -73.99069656], \"marker\": {\"size\": 14}, \"mode\": \"markers+lines\", \"type\": \"scattermapbox\"}, {\"lat\": [40.7859201, 40.79329668], \"lon\": [-73.94860294, -73.9432083], \"marker\": {\"size\": 14}, \"mode\": \"markers+lines\", \"type\": \"scattermapbox\"}, {\"lat\": [40.72953837, 40.71273266], \"lon\": [-73.98426726, -74.0046073], \"marker\": {\"size\": 14}, \"mode\": \"markers+lines\", \"type\": \"scattermapbox\"}, {\"lat\": [40.77579376683666, 40.745712100000006], \"lon\": [-73.97620573639871, -73.98194829], \"marker\": {\"size\": 14}, \"mode\": \"markers+lines\", \"type\": \"scattermapbox\"}, {\"lat\": [40.73226398, 40.73704984], \"lon\": [-73.99852205, -73.99009296], \"marker\": {\"size\": 14}, \"mode\": \"markers+lines\", \"type\": \"scattermapbox\"}, {\"lat\": [40.74290902, 40.7505853470215], \"lon\": [-73.97706058, -73.9946848154068], \"marker\": {\"size\": 14}, \"mode\": \"markers+lines\", \"type\": \"scattermapbox\"}, {\"lat\": [40.722055, 40.71406667], \"lon\": [-73.989111, -73.99293911], \"marker\": {\"size\": 14}, \"mode\": \"markers+lines\", \"type\": \"scattermapbox\"}, {\"lat\": [40.69512845, 40.68841742754083], \"lon\": [-73.99595065, -73.98451656103134], \"marker\": {\"size\": 14}, \"mode\": \"markers+lines\", \"type\": \"scattermapbox\"}, {\"lat\": [40.75898481399634, 40.76132983124814], \"lon\": [-73.99379968643187, -73.97982001304626], \"marker\": {\"size\": 14}, \"mode\": \"markers+lines\", \"type\": \"scattermapbox\"}, {\"lat\": [40.73401143, 40.72368361], \"lon\": [-74.00293877, -73.97574813], \"marker\": {\"size\": 14}, \"mode\": \"markers+lines\", \"type\": \"scattermapbox\"}, {\"lat\": [40.73172428, 40.70463334], \"lon\": [-74.00674436, -74.01361706], \"marker\": {\"size\": 14}, \"mode\": \"markers+lines\", \"type\": \"scattermapbox\"}, {\"lat\": [40.72953837, 40.72066442], \"lon\": [-73.98426726, -73.98517977], \"marker\": {\"size\": 14}, \"mode\": \"markers+lines\", \"type\": \"scattermapbox\"}, {\"lat\": [40.76087502, 40.768254], \"lon\": [-74.00277668, -73.988639], \"marker\": {\"size\": 14}, \"mode\": \"markers+lines\", \"type\": \"scattermapbox\"}, {\"lat\": [40.72502876, 40.72621788], \"lon\": [-73.99069656, -73.98379855], \"marker\": {\"size\": 14}, \"mode\": \"markers+lines\", \"type\": \"scattermapbox\"}, {\"lat\": [40.7546011026, 40.73624527], \"lon\": [-73.971878855, -73.98473765], \"marker\": {\"size\": 14}, \"mode\": \"markers+lines\", \"type\": \"scattermapbox\"}, {\"lat\": [40.692418292578466, 40.71273266], \"lon\": [-73.98949474096298, -74.0046073], \"marker\": {\"size\": 14}, \"mode\": \"markers+lines\", \"type\": \"scattermapbox\"}, {\"lat\": [40.7568001, 40.75756989999999], \"lon\": [-73.98291153, -73.99098507], \"marker\": {\"size\": 14}, \"mode\": \"markers+lines\", \"type\": \"scattermapbox\"}, {\"lat\": [40.72953837, 40.72082834], \"lon\": [-73.98426726, -73.97793172], \"marker\": {\"size\": 14}, \"mode\": \"markers+lines\", \"type\": \"scattermapbox\"}, {\"lat\": [40.7454973, 40.741459000000006], \"lon\": [-74.00197139, -73.983293], \"marker\": {\"size\": 14}, \"mode\": \"markers+lines\", \"type\": \"scattermapbox\"}, {\"lat\": [40.74765947, 40.740343200000005], \"lon\": [-73.98490707, -73.98955109], \"marker\": {\"size\": 14}, \"mode\": \"markers+lines\", \"type\": \"scattermapbox\"}, {\"lat\": [40.77492513, 40.7921], \"lon\": [-73.98266566, -73.9739], \"marker\": {\"size\": 14}, \"mode\": \"markers+lines\", \"type\": \"scattermapbox\"}, {\"lat\": [40.73401143, 40.74177603], \"lon\": [-74.00293877, -74.00149746], \"marker\": {\"size\": 14}, \"mode\": \"markers+lines\", \"type\": \"scattermapbox\"}, {\"lat\": [40.71534825, 40.71915571696044], \"lon\": [-73.96024116, -73.94885390996933], \"marker\": {\"size\": 14}, \"mode\": \"markers+lines\", \"type\": \"scattermapbox\"}, {\"lat\": [40.735445, 40.744219], \"lon\": [-73.99431, -73.97121214], \"marker\": {\"size\": 14}, \"mode\": \"markers+lines\", \"type\": \"scattermapbox\"}, {\"lat\": [40.69308257, 40.69196566], \"lon\": [-73.97178913, -73.9813018], \"marker\": {\"size\": 14}, \"mode\": \"markers+lines\", \"type\": \"scattermapbox\"}, {\"lat\": [40.70255088, 40.697787], \"lon\": [-73.98940236, -73.973736], \"marker\": {\"size\": 14}, \"mode\": \"markers+lines\", \"type\": \"scattermapbox\"}, {\"lat\": [40.72430832160217, 40.72243797], \"lon\": [-74.00473035871983, -74.00566443], \"marker\": {\"size\": 14}, \"mode\": \"markers+lines\", \"type\": \"scattermapbox\"}, {\"lat\": [40.72740794, 40.718821999999996], \"lon\": [-73.98142006, -73.99596], \"marker\": {\"size\": 14}, \"mode\": \"markers+lines\", \"type\": \"scattermapbox\"}, {\"lat\": [40.75992262, 40.75038009], \"lon\": [-73.97648516, -73.98338988], \"marker\": {\"size\": 14}, \"mode\": \"markers+lines\", \"type\": \"scattermapbox\"}, {\"lat\": [40.73944820130404, 40.73381219196632], \"lon\": [-74.00507032871245, -73.9805442094803], \"marker\": {\"size\": 14}, \"mode\": \"markers+lines\", \"type\": \"scattermapbox\"}, {\"lat\": [40.75466591, 40.73143724085228], \"lon\": [-73.99138152, -73.99490341544151], \"marker\": {\"size\": 14}, \"mode\": \"markers+lines\", \"type\": \"scattermapbox\"}, {\"lat\": [40.745038, 40.74731], \"lon\": [-73.957539, -73.95451], \"marker\": {\"size\": 14}, \"mode\": \"markers+lines\", \"type\": \"scattermapbox\"}, {\"lat\": [40.734232, 40.74096374], \"lon\": [-73.986923, -73.98602213], \"marker\": {\"size\": 14}, \"mode\": \"markers+lines\", \"type\": \"scattermapbox\"}, {\"lat\": [40.740343200000005, 40.701907], \"lon\": [-73.98955109, -74.013942], \"marker\": {\"size\": 14}, \"mode\": \"markers+lines\", \"type\": \"scattermapbox\"}, {\"lat\": [40.74334935, 40.73726186], \"lon\": [-74.00681753, -73.99238967], \"marker\": {\"size\": 14}, \"mode\": \"markers+lines\", \"type\": \"scattermapbox\"}, {\"lat\": [40.77565541, 40.74780373], \"lon\": [-73.95068615, -73.97344190000001], \"marker\": {\"size\": 14}, \"mode\": \"markers+lines\", \"type\": \"scattermapbox\"}, {\"lat\": [40.75660359, 40.75724567911726], \"lon\": [-73.9979009, -73.97805914282799], \"marker\": {\"size\": 14}, \"mode\": \"markers+lines\", \"type\": \"scattermapbox\"}, {\"lat\": [40.7859201, 40.787801], \"lon\": [-73.94860294, -73.953559], \"marker\": {\"size\": 14}, \"mode\": \"markers+lines\", \"type\": \"scattermapbox\"}, {\"lat\": [40.770513, 40.76344058], \"lon\": [-73.988038, -73.98268129], \"marker\": {\"size\": 14}, \"mode\": \"markers+lines\", \"type\": \"scattermapbox\"}, {\"lat\": [40.69610226, 40.68851534], \"lon\": [-73.96751037, -73.9647628], \"marker\": {\"size\": 14}, \"mode\": \"markers+lines\", \"type\": \"scattermapbox\"}, {\"lat\": [40.74708586, 40.74232744], \"lon\": [-73.94977234, -73.95411749], \"marker\": {\"size\": 14}, \"mode\": \"markers+lines\", \"type\": \"scattermapbox\"}, {\"lat\": [40.69610226, 40.69236178], \"lon\": [-73.96751037, -73.98631746], \"marker\": {\"size\": 14}, \"mode\": \"markers+lines\", \"type\": \"scattermapbox\"}, {\"lat\": [40.7652654, 40.70905623], \"lon\": [-73.98192338, -74.01043382], \"marker\": {\"size\": 14}, \"mode\": \"markers+lines\", \"type\": \"scattermapbox\"}, {\"lat\": [40.71219906, 40.71450451], \"lon\": [-73.97948148, -74.00562789], \"marker\": {\"size\": 14}, \"mode\": \"markers+lines\", \"type\": \"scattermapbox\"}],\n",
       "                        {\"hovermode\": \"closest\", \"mapbox\": {\"accesstoken\": \"pk.eyJ1IjoibWFyY2VsbG85NiIsImEiOiJjazIzaDhuOGswbXRtM2dtemM4NjZweGttIn0.oV2HBhATRAfIfmgd8VY27w\", \"bearing\": 0, \"center\": {\"lat\": 45, \"lon\": -73}, \"pitch\": 0, \"zoom\": 5}, \"template\": {\"data\": {\"bar\": [{\"error_x\": {\"color\": \"#2a3f5f\"}, \"error_y\": {\"color\": \"#2a3f5f\"}, \"marker\": {\"line\": {\"color\": \"#E5ECF6\", \"width\": 0.5}}, \"type\": \"bar\"}], \"barpolar\": [{\"marker\": {\"line\": {\"color\": \"#E5ECF6\", \"width\": 0.5}}, \"type\": \"barpolar\"}], \"carpet\": [{\"aaxis\": {\"endlinecolor\": \"#2a3f5f\", \"gridcolor\": \"white\", \"linecolor\": \"white\", \"minorgridcolor\": \"white\", \"startlinecolor\": \"#2a3f5f\"}, \"baxis\": {\"endlinecolor\": \"#2a3f5f\", \"gridcolor\": \"white\", \"linecolor\": \"white\", \"minorgridcolor\": \"white\", \"startlinecolor\": \"#2a3f5f\"}, \"type\": \"carpet\"}], \"choropleth\": [{\"colorbar\": {\"outlinewidth\": 0, \"ticks\": \"\"}, \"type\": \"choropleth\"}], \"contour\": [{\"colorbar\": {\"outlinewidth\": 0, \"ticks\": \"\"}, \"colorscale\": [[0.0, \"#0d0887\"], [0.1111111111111111, \"#46039f\"], [0.2222222222222222, \"#7201a8\"], [0.3333333333333333, \"#9c179e\"], [0.4444444444444444, \"#bd3786\"], [0.5555555555555556, \"#d8576b\"], [0.6666666666666666, \"#ed7953\"], [0.7777777777777778, \"#fb9f3a\"], [0.8888888888888888, \"#fdca26\"], [1.0, \"#f0f921\"]], \"type\": \"contour\"}], \"contourcarpet\": [{\"colorbar\": {\"outlinewidth\": 0, \"ticks\": \"\"}, \"type\": \"contourcarpet\"}], \"heatmap\": [{\"colorbar\": {\"outlinewidth\": 0, \"ticks\": \"\"}, \"colorscale\": [[0.0, \"#0d0887\"], [0.1111111111111111, \"#46039f\"], [0.2222222222222222, \"#7201a8\"], [0.3333333333333333, \"#9c179e\"], [0.4444444444444444, \"#bd3786\"], [0.5555555555555556, \"#d8576b\"], [0.6666666666666666, \"#ed7953\"], [0.7777777777777778, \"#fb9f3a\"], [0.8888888888888888, \"#fdca26\"], [1.0, \"#f0f921\"]], \"type\": \"heatmap\"}], \"heatmapgl\": [{\"colorbar\": {\"outlinewidth\": 0, \"ticks\": \"\"}, \"colorscale\": [[0.0, \"#0d0887\"], [0.1111111111111111, \"#46039f\"], [0.2222222222222222, \"#7201a8\"], [0.3333333333333333, \"#9c179e\"], [0.4444444444444444, \"#bd3786\"], [0.5555555555555556, \"#d8576b\"], [0.6666666666666666, \"#ed7953\"], [0.7777777777777778, \"#fb9f3a\"], [0.8888888888888888, \"#fdca26\"], [1.0, \"#f0f921\"]], \"type\": \"heatmapgl\"}], \"histogram\": [{\"marker\": {\"colorbar\": {\"outlinewidth\": 0, \"ticks\": \"\"}}, \"type\": \"histogram\"}], \"histogram2d\": [{\"colorbar\": {\"outlinewidth\": 0, \"ticks\": \"\"}, \"colorscale\": [[0.0, \"#0d0887\"], [0.1111111111111111, \"#46039f\"], [0.2222222222222222, \"#7201a8\"], [0.3333333333333333, \"#9c179e\"], [0.4444444444444444, \"#bd3786\"], [0.5555555555555556, \"#d8576b\"], [0.6666666666666666, \"#ed7953\"], [0.7777777777777778, \"#fb9f3a\"], [0.8888888888888888, \"#fdca26\"], [1.0, \"#f0f921\"]], \"type\": \"histogram2d\"}], \"histogram2dcontour\": [{\"colorbar\": {\"outlinewidth\": 0, \"ticks\": \"\"}, \"colorscale\": [[0.0, \"#0d0887\"], [0.1111111111111111, \"#46039f\"], [0.2222222222222222, \"#7201a8\"], [0.3333333333333333, \"#9c179e\"], [0.4444444444444444, \"#bd3786\"], [0.5555555555555556, \"#d8576b\"], [0.6666666666666666, \"#ed7953\"], [0.7777777777777778, \"#fb9f3a\"], [0.8888888888888888, \"#fdca26\"], [1.0, \"#f0f921\"]], \"type\": \"histogram2dcontour\"}], \"mesh3d\": [{\"colorbar\": {\"outlinewidth\": 0, \"ticks\": \"\"}, \"type\": \"mesh3d\"}], \"parcoords\": [{\"line\": {\"colorbar\": {\"outlinewidth\": 0, \"ticks\": \"\"}}, \"type\": \"parcoords\"}], \"scatter\": [{\"marker\": {\"colorbar\": {\"outlinewidth\": 0, \"ticks\": \"\"}}, \"type\": \"scatter\"}], \"scatter3d\": [{\"line\": {\"colorbar\": {\"outlinewidth\": 0, \"ticks\": \"\"}}, \"marker\": {\"colorbar\": {\"outlinewidth\": 0, \"ticks\": \"\"}}, \"type\": \"scatter3d\"}], \"scattercarpet\": [{\"marker\": {\"colorbar\": {\"outlinewidth\": 0, \"ticks\": \"\"}}, \"type\": \"scattercarpet\"}], \"scattergeo\": [{\"marker\": {\"colorbar\": {\"outlinewidth\": 0, \"ticks\": \"\"}}, \"type\": \"scattergeo\"}], \"scattergl\": [{\"marker\": {\"colorbar\": {\"outlinewidth\": 0, \"ticks\": \"\"}}, \"type\": \"scattergl\"}], \"scattermapbox\": [{\"marker\": {\"colorbar\": {\"outlinewidth\": 0, \"ticks\": \"\"}}, \"type\": \"scattermapbox\"}], \"scatterpolar\": [{\"marker\": {\"colorbar\": {\"outlinewidth\": 0, \"ticks\": \"\"}}, \"type\": \"scatterpolar\"}], \"scatterpolargl\": [{\"marker\": {\"colorbar\": {\"outlinewidth\": 0, \"ticks\": \"\"}}, \"type\": \"scatterpolargl\"}], \"scatterternary\": [{\"marker\": {\"colorbar\": {\"outlinewidth\": 0, \"ticks\": \"\"}}, \"type\": \"scatterternary\"}], \"surface\": [{\"colorbar\": {\"outlinewidth\": 0, \"ticks\": \"\"}, \"colorscale\": [[0.0, \"#0d0887\"], [0.1111111111111111, \"#46039f\"], [0.2222222222222222, \"#7201a8\"], [0.3333333333333333, \"#9c179e\"], [0.4444444444444444, \"#bd3786\"], [0.5555555555555556, \"#d8576b\"], [0.6666666666666666, \"#ed7953\"], [0.7777777777777778, \"#fb9f3a\"], [0.8888888888888888, \"#fdca26\"], [1.0, \"#f0f921\"]], \"type\": \"surface\"}], \"table\": [{\"cells\": {\"fill\": {\"color\": \"#EBF0F8\"}, \"line\": {\"color\": \"white\"}}, \"header\": {\"fill\": {\"color\": \"#C8D4E3\"}, \"line\": {\"color\": \"white\"}}, \"type\": \"table\"}]}, \"layout\": {\"annotationdefaults\": {\"arrowcolor\": \"#2a3f5f\", \"arrowhead\": 0, \"arrowwidth\": 1}, \"colorscale\": {\"diverging\": [[0, \"#8e0152\"], [0.1, \"#c51b7d\"], [0.2, \"#de77ae\"], [0.3, \"#f1b6da\"], [0.4, \"#fde0ef\"], [0.5, \"#f7f7f7\"], [0.6, \"#e6f5d0\"], [0.7, \"#b8e186\"], [0.8, \"#7fbc41\"], [0.9, \"#4d9221\"], [1, \"#276419\"]], \"sequential\": [[0.0, \"#0d0887\"], [0.1111111111111111, \"#46039f\"], [0.2222222222222222, \"#7201a8\"], [0.3333333333333333, \"#9c179e\"], [0.4444444444444444, \"#bd3786\"], [0.5555555555555556, \"#d8576b\"], [0.6666666666666666, \"#ed7953\"], [0.7777777777777778, \"#fb9f3a\"], [0.8888888888888888, \"#fdca26\"], [1.0, \"#f0f921\"]], \"sequentialminus\": [[0.0, \"#0d0887\"], [0.1111111111111111, \"#46039f\"], [0.2222222222222222, \"#7201a8\"], [0.3333333333333333, \"#9c179e\"], [0.4444444444444444, \"#bd3786\"], [0.5555555555555556, \"#d8576b\"], [0.6666666666666666, \"#ed7953\"], [0.7777777777777778, \"#fb9f3a\"], [0.8888888888888888, \"#fdca26\"], [1.0, \"#f0f921\"]]}, \"colorway\": [\"#636efa\", \"#EF553B\", \"#00cc96\", \"#ab63fa\", \"#FFA15A\", \"#19d3f3\", \"#FF6692\", \"#B6E880\", \"#FF97FF\", \"#FECB52\"], \"font\": {\"color\": \"#2a3f5f\"}, \"geo\": {\"bgcolor\": \"white\", \"lakecolor\": \"white\", \"landcolor\": \"#E5ECF6\", \"showlakes\": true, \"showland\": true, \"subunitcolor\": \"white\"}, \"hoverlabel\": {\"align\": \"left\"}, \"hovermode\": \"closest\", \"mapbox\": {\"style\": \"light\"}, \"paper_bgcolor\": \"white\", \"plot_bgcolor\": \"#E5ECF6\", \"polar\": {\"angularaxis\": {\"gridcolor\": \"white\", \"linecolor\": \"white\", \"ticks\": \"\"}, \"bgcolor\": \"#E5ECF6\", \"radialaxis\": {\"gridcolor\": \"white\", \"linecolor\": \"white\", \"ticks\": \"\"}}, \"scene\": {\"xaxis\": {\"backgroundcolor\": \"#E5ECF6\", \"gridcolor\": \"white\", \"gridwidth\": 2, \"linecolor\": \"white\", \"showbackground\": true, \"ticks\": \"\", \"zerolinecolor\": \"white\"}, \"yaxis\": {\"backgroundcolor\": \"#E5ECF6\", \"gridcolor\": \"white\", \"gridwidth\": 2, \"linecolor\": \"white\", \"showbackground\": true, \"ticks\": \"\", \"zerolinecolor\": \"white\"}, \"zaxis\": {\"backgroundcolor\": \"#E5ECF6\", \"gridcolor\": \"white\", \"gridwidth\": 2, \"linecolor\": \"white\", \"showbackground\": true, \"ticks\": \"\", \"zerolinecolor\": \"white\"}}, \"shapedefaults\": {\"line\": {\"color\": \"#2a3f5f\"}}, \"ternary\": {\"aaxis\": {\"gridcolor\": \"white\", \"linecolor\": \"white\", \"ticks\": \"\"}, \"baxis\": {\"gridcolor\": \"white\", \"linecolor\": \"white\", \"ticks\": \"\"}, \"bgcolor\": \"#E5ECF6\", \"caxis\": {\"gridcolor\": \"white\", \"linecolor\": \"white\", \"ticks\": \"\"}}, \"title\": {\"x\": 0.05}, \"xaxis\": {\"automargin\": true, \"gridcolor\": \"white\", \"linecolor\": \"white\", \"ticks\": \"\", \"zerolinecolor\": \"white\", \"zerolinewidth\": 2}, \"yaxis\": {\"automargin\": true, \"gridcolor\": \"white\", \"linecolor\": \"white\", \"ticks\": \"\", \"zerolinecolor\": \"white\", \"zerolinewidth\": 2}}}},\n",
       "                        {\"responsive\": true}\n",
       "                    ).then(function(){\n",
       "                            \n",
       "var gd = document.getElementById('8a09e058-4283-4d83-9fad-e22f900e742e');\n",
       "var x = new MutationObserver(function (mutations, observer) {{\n",
       "        var display = window.getComputedStyle(gd).display;\n",
       "        if (!display || display === 'none') {{\n",
       "            console.log([gd, 'removed!']);\n",
       "            Plotly.purge(gd);\n",
       "            observer.disconnect();\n",
       "        }}\n",
       "}});\n",
       "\n",
       "// Listen for the removal of the full notebook cells\n",
       "var notebookContainer = gd.closest('#notebook-container');\n",
       "if (notebookContainer) {{\n",
       "    x.observe(notebookContainer, {childList: true});\n",
       "}}\n",
       "\n",
       "// Listen for the clearing of the current output cell\n",
       "var outputEl = gd.closest('.output');\n",
       "if (outputEl) {{\n",
       "    x.observe(outputEl, {childList: true});\n",
       "}}\n",
       "\n",
       "                        })\n",
       "                };\n",
       "                });\n",
       "            </script>\n",
       "        </div>"
      ]
     },
     "metadata": {},
     "output_type": "display_data"
    }
   ],
   "source": [
    "mapbox_access_token = 'pk.eyJ1IjoibWFyY2VsbG85NiIsImEiOiJjazIzaDhuOGswbXRtM2dtemM4NjZweGttIn0.oV2HBhATRAfIfmgd8VY27w'\n",
    "\n",
    "fig = go.Figure([prepare_trace(row) for _,row in mdata.iterrows()])\n",
    "\n",
    "fig.update_layout(\n",
    "    hovermode='closest',\n",
    "    mapbox=go.layout.Mapbox(\n",
    "        accesstoken=mapbox_access_token,\n",
    "        bearing=0,\n",
    "        center=go.layout.mapbox.Center(\n",
    "            lat=45,\n",
    "            lon=-73\n",
    "        ),\n",
    "        pitch=0,\n",
    "        zoom=5\n",
    "    )\n",
    ")\n",
    "\n",
    "fig.show()"
   ]
  },
  {
   "cell_type": "code",
   "execution_count": null,
   "metadata": {},
   "outputs": [],
   "source": [
    "data.mean(axis = 0)"
   ]
  },
  {
   "cell_type": "code",
   "execution_count": null,
   "metadata": {
    "pycharm": {
     "name": "#%%\n"
    }
   },
   "outputs": [],
   "source": [
    "\n"
   ]
  }
 ],
 "metadata": {
  "kernelspec": {
   "display_name": "Python 3",
   "language": "python",
   "name": "python3"
  },
  "language_info": {
   "codemirror_mode": {
    "name": "ipython",
    "version": 3
   },
   "file_extension": ".py",
   "mimetype": "text/x-python",
   "name": "python",
   "nbconvert_exporter": "python",
   "pygments_lexer": "ipython3",
   "version": "3.7.4"
  },
  "pycharm": {
   "stem_cell": {
    "cell_type": "raw",
    "metadata": {
     "collapsed": false
    },
    "source": []
   }
  }
 },
 "nbformat": 4,
 "nbformat_minor": 1
}
